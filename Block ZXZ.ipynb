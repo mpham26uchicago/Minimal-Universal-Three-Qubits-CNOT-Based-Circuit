{
 "cells": [
  {
   "cell_type": "code",
   "execution_count": 185,
   "id": "c9e3546d",
   "metadata": {},
   "outputs": [],
   "source": [
    "from FrozenYoghourt import *\n",
    "from FrozenYoghourt.mode import *\n",
    "from FrozenYoghourt.gates import *\n",
    "from FrozenYoghourt.maths import *\n",
    "from FrozenYoghourt.quantum import *\n",
    "from FrozenYoghourt.circuit import *\n",
    "from FrozenYoghourt.visualization import *\n",
    "\n",
    "from scipy.linalg import polar\n",
    "from scipy.linalg import block_diag\n",
    "\n",
    "from qiskit import *"
   ]
  },
  {
   "cell_type": "code",
   "execution_count": null,
   "id": "106264d8",
   "metadata": {},
   "outputs": [],
   "source": [
    "U = random_unitary(8).data"
   ]
  },
  {
   "cell_type": "code",
   "execution_count": 277,
   "id": "dd27e5ee",
   "metadata": {},
   "outputs": [],
   "source": [
    "class BlockZXZ:\n",
    "    \n",
    "    def __init__(self, U):\n",
    "        \n",
    "        self.U = U\n",
    "        \n",
    "    def ZXZ_decomposition(self):\n",
    "        \n",
    "        dim = int(np.sqrt(self.U.size) / 2)\n",
    "\n",
    "        # Split matrix into subblocks and polar decomposition\n",
    "        V11, P11 = polar(self.U[:dim, :dim], side = 'left')\n",
    "        V12, P12 = polar(self.U[:dim, dim:], side = 'left')\n",
    "        V21, P21 = polar(self.U[dim:, :dim], side = 'left')\n",
    "        V22, P22 = polar(self.U[dim:, dim:], side = 'left')\n",
    "\n",
    "        # Fuhr and Rzeszotnik method\n",
    "        self.A = (P11 + 1j* P12)@V11\n",
    "        self.B = (P21 - 1j*P22)@V21\n",
    "        self.C = dagger(V11)@(P11 - 1j*P12)@(P11 - 1j*P12)@V11\n",
    "        self.D = -1j*dagger(V11)@V12\n",
    "        \n",
    "        assert close(block_diag(self.A, self.B)@np.block([[np.eye(dim)+self.C, np.eye(dim) - self.C], \n",
    "        [np.eye(dim)-self.C, np.eye(dim) + self.C]])/2 @ block_diag(np.eye(dim), self.D) , U)\n",
    "        \n",
    "        return self.A, self.B, self.C, self.D\n",
    "    \n",
    "    def ID_demultiplexing(self):\n",
    "        Ds, self.V1 = np.linalg.eig(dagger(D))\n",
    "        self.D1 = np.diag(np.exp(1j/2*np.angle(Ds)))\n",
    "        \n",
    "        self.W1 = self.D1@dagger(self.V1)\n",
    "        \n",
    "        return self.V1, self.D1, self.W1\n",
    "    \n",
    "    def AB_demultiplexing(self):\n",
    "        Ds, self.V2 = np.linalg.eig(A@dagger(B))\n",
    "        self.D2 = np.diag(np.exp(1j/2*np.angle(Ds)))\n",
    "        \n",
    "        self.W2 = self.D2@dagger(self.V2)@B\n",
    "        \n",
    "        return self.V2, self.D2, self.W2"
   ]
  },
  {
   "cell_type": "code",
   "execution_count": 282,
   "id": "cf166595",
   "metadata": {},
   "outputs": [],
   "source": [
    "def modified_angles(angles):\n",
    "    hadamard = np.array([[1, 1], [1, -1]])\n",
    "    \n",
    "    dim = int(np.log2(len(angles)))\n",
    "    coef_mat = tp(*[hadamard]*dim) # Tensor Product of Hadamard\n",
    "    modified_angles = angles@coef_mat / 2**dim\n",
    "    \n",
    "    return modified_angles\n",
    "\n",
    "def multiplex_crz(circ, angles, control_bit = 0, flip = False):\n",
    "    \n",
    "    \"\"\"\n",
    "    Build optimized multiplexed crz gate\n",
    "    \n",
    "    Parameters\n",
    "    ----------\n",
    "    circ : QuantumCircuit\n",
    "        The circuit to which the multiplexed crz gate is applied.\n",
    "    \n",
    "    angles : list\n",
    "        The list of angles to be applied to the multiplexed crz gate.\n",
    "    \n",
    "    control_bit : int\n",
    "        The control bit for the multiplexed crz gate.\n",
    "    \n",
    "    flip : bool\n",
    "        A boolean to determine whether the multiplexed crz gate is flipped or not.\n",
    "    \n",
    "    Returns\n",
    "    -------\n",
    "    None\n",
    "        The multiplexed crz gate is applied to the circuit.\n",
    "    \"\"\"\n",
    "    \n",
    "    len_angles = len(angles)\n",
    "    no_qubits = circ.num_qubits\n",
    "    \n",
    "    if len_angles == 2 and not flip: ### Base case with Optimzation\n",
    "        circ.rz(angles[0], no_qubits-1)\n",
    "        circ.cx(no_qubits-2, no_qubits-1)\n",
    "        circ.rz(angles[1], no_qubits-1)\n",
    "        \n",
    "        if no_qubits == 2:\n",
    "            circ.cx(no_qubits-2, no_qubits-1)\n",
    "            \n",
    "        return None\n",
    "    \n",
    "    elif len_angles == 2 and flip: ### Base case with Optimzation\n",
    "        \n",
    "        circ.rz(angles[1], no_qubits-1)\n",
    "        circ.cx(no_qubits-2, no_qubits-1)\n",
    "        circ.rz(angles[0], no_qubits-1)\n",
    "        return None\n",
    "    \n",
    "    else: ### Recursion\n",
    "        multiplex_crz(circ, angles[:len_angles//2], control_bit+1, flip = False)\n",
    "        circ.cx(control_bit, no_qubits - 1)\n",
    "        multiplex_crz(circ, angles[len_angles//2:], control_bit+1, flip = True)\n",
    "        circ.cx(control_bit, no_qubits - 1)"
   ]
  },
  {
   "cell_type": "code",
   "execution_count": 304,
   "id": "14fc465b",
   "metadata": {},
   "outputs": [],
   "source": [
    "def multiplex_cry(circ, angles, control_bit = 0, flip = False): # Build optimized multiplexed cry gate\n",
    "    \n",
    "    len_angles = len(angles)\n",
    "    no_qubits = circ.num_qubits\n",
    "    \n",
    "    if len_angles == 2 and not flip: ### Base case with Optimzation\n",
    "        circ.ry(angles[0], no_qubits-1)\n",
    "        circ.cz(no_qubits-2, no_qubits-1)\n",
    "        circ.ry(angles[1], no_qubits-1)\n",
    "        \n",
    "        if no_qubits == 2:\n",
    "            circ.cz(no_qubits-2, no_qubits-1)  \n",
    "            \n",
    "        return None\n",
    "                \n",
    "    elif len_angles == 2 and flip: ### Base case with Optimzation\n",
    "        circ.ry(angles[1], no_qubits-1)\n",
    "        circ.cz(no_qubits-2, no_qubits-1)\n",
    "        circ.ry(angles[0], no_qubits-1)\n",
    "        return None\n",
    "    \n",
    "    else: ### Recursion\n",
    "        multiplex_cry(circ, angles[:len_angles//2], control_bit+1, flip = False)\n",
    "        circ.cz(control_bit, no_qubits - 1)\n",
    "        multiplex_cry(circ, angles[len_angles//2:], control_bit+1, flip = True)\n",
    "        circ.cz(control_bit, no_qubits - 1)"
   ]
  },
  {
   "cell_type": "code",
   "execution_count": 310,
   "id": "8f814929",
   "metadata": {},
   "outputs": [
    {
     "data": {
      "image/png": "[encoded data removed]",
      "text/plain": [
       "<Figure size 628.397x204.68 with 1 Axes>"
      ]
     },
     "execution_count": 310,
     "metadata": {},
     "output_type": "execute_result"
    }
   ],
   "source": [
    "circ = QuantumCircuit(3)\n",
    "circ.sx([0, 1])\n",
    "multiplex_crz(circ, [2, 3, 5, 7], flip = True)\n",
    "circ.sxdg([0, 1])\n",
    "circ.draw('mpl')"
   ]
  },
  {
   "cell_type": "code",
   "execution_count": 312,
   "id": "1fb38712",
   "metadata": {},
   "outputs": [
    {
     "data": {
      "text/latex": [
       "$\\displaystyle \\left[\\begin{matrix}-0.147537206604386 - 0.157800223078315 i & 0.257304160068597 + 0.118100143904174 i & -0.41683494707824 + 0.621697088383424 i & -0.285322536207161 + 0.481156102535532 i & 0 & 0 & 0 & 0\\\\-0.257304160068597 - 0.118100143904174 i & -0.147537206604386 - 0.157800223078315 i & 0.285322536207161 - 0.481156102535532 i & -0.41683494707824 + 0.621697088383424 i & 0 & 0 & 0 & 0\\\\0.41683494707824 - 0.621697088383424 i & 0.285322536207161 - 0.481156102535532 i & -0.147537206604386 - 0.157800223078315 i & 0.257304160068597 + 0.118100143904174 i & 0 & 0 & 0 & 0\\\\-0.285322536207161 + 0.481156102535532 i & 0.41683494707824 - 0.621697088383424 i & -0.257304160068597 - 0.118100143904174 i & -0.147537206604386 - 0.157800223078315 i & 0 & 0 & 0 & 0\\\\0 & 0 & 0 & 0 & -0.147537206604386 + 0.157800223078315 i & -0.257304160068597 + 0.118100143904174 i & 0.41683494707824 + 0.621697088383424 i & -0.285322536207161 - 0.481156102535532 i\\\\0 & 0 & 0 & 0 & 0.257304160068597 - 0.118100143904174 i & -0.147537206604386 + 0.157800223078315 i & 0.285322536207161 + 0.481156102535532 i & 0.41683494707824 + 0.621697088383424 i\\\\0 & 0 & 0 & 0 & -0.41683494707824 - 0.621697088383424 i & 0.285322536207161 + 0.481156102535532 i & -0.147537206604386 + 0.157800223078315 i & -0.257304160068597 + 0.118100143904174 i\\\\0 & 0 & 0 & 0 & -0.285322536207161 - 0.481156102535532 i & -0.41683494707824 - 0.621697088383424 i & 0.257304160068597 - 0.118100143904174 i & -0.147537206604386 + 0.157800223078315 i\\end{matrix}\\right]$"
      ],
      "text/plain": [
       "Matrix([\n",
       "[-0.147537206604386 - 0.157800223078315*I,  0.257304160068597 + 0.118100143904174*I,  -0.41683494707824 + 0.621697088383424*I, -0.285322536207161 + 0.481156102535532*I,                                        0,                                        0,                                        0,                                        0],\n",
       "[-0.257304160068597 - 0.118100143904174*I, -0.147537206604386 - 0.157800223078315*I,  0.285322536207161 - 0.481156102535532*I,  -0.41683494707824 + 0.621697088383424*I,                                        0,                                        0,                                        0,                                        0],\n",
       "[  0.41683494707824 - 0.621697088383424*I,  0.285322536207161 - 0.481156102535532*I, -0.147537206604386 - 0.157800223078315*I,  0.257304160068597 + 0.118100143904174*I,                                        0,                                        0,                                        0,                                        0],\n",
       "[-0.285322536207161 + 0.481156102535532*I,   0.41683494707824 - 0.621697088383424*I, -0.257304160068597 - 0.118100143904174*I, -0.147537206604386 - 0.157800223078315*I,                                        0,                                        0,                                        0,                                        0],\n",
       "[                                       0,                                        0,                                        0,                                        0, -0.147537206604386 + 0.157800223078315*I, -0.257304160068597 + 0.118100143904174*I,   0.41683494707824 + 0.621697088383424*I, -0.285322536207161 - 0.481156102535532*I],\n",
       "[                                       0,                                        0,                                        0,                                        0,  0.257304160068597 - 0.118100143904174*I, -0.147537206604386 + 0.157800223078315*I,  0.285322536207161 + 0.481156102535532*I,   0.41683494707824 + 0.621697088383424*I],\n",
       "[                                       0,                                        0,                                        0,                                        0,  -0.41683494707824 - 0.621697088383424*I,  0.285322536207161 + 0.481156102535532*I, -0.147537206604386 + 0.157800223078315*I, -0.257304160068597 + 0.118100143904174*I],\n",
       "[                                       0,                                        0,                                        0,                                        0, -0.285322536207161 - 0.481156102535532*I,  -0.41683494707824 - 0.621697088383424*I,  0.257304160068597 - 0.118100143904174*I, -0.147537206604386 + 0.157800223078315*I]])"
      ]
     },
     "execution_count": 312,
     "metadata": {},
     "output_type": "execute_result"
    }
   ],
   "source": [
    "Matrix(Operator(circ).data)"
   ]
  },
  {
   "cell_type": "code",
   "execution_count": 307,
   "id": "cafa149f",
   "metadata": {},
   "outputs": [
    {
     "data": {
      "text/latex": [
       "$\\displaystyle \\left[\\begin{matrix}-0.602011902684824 & -0.79848711262349 & 0 & 0 & 0 & 0 & 0 & 0\\\\0.79848711262349 & -0.602011902684824 & 0 & 0 & 0 & 0 & 0 & 0\\\\0 & 0 & 0.0707372016677029 & 0.997494986604054 & 0 & 0 & 0 & 0\\\\0 & 0 & -0.997494986604054 & 0.0707372016677029 & 0 & 0 & 0 & 0\\\\0 & 0 & 0 & 0 & -0.936456687290796 & -0.35078322768962 & 0 & 0\\\\0 & 0 & 0 & 0 & 0.35078322768962 & -0.936456687290796 & 0 & 0\\\\0 & 0 & 0 & 0 & 0 & 0 & 0.877582561890373 & -0.479425538604203\\\\0 & 0 & 0 & 0 & 0 & 0 & 0.479425538604203 & 0.877582561890373\\end{matrix}\\right]$"
      ],
      "text/plain": [
       "Matrix([\n",
       "[-0.602011902684824,  -0.79848711262349,                  0,                  0,                  0,                  0,                 0,                  0],\n",
       "[  0.79848711262349, -0.602011902684824,                  0,                  0,                  0,                  0,                 0,                  0],\n",
       "[                 0,                  0, 0.0707372016677029,  0.997494986604054,                  0,                  0,                 0,                  0],\n",
       "[                 0,                  0, -0.997494986604054, 0.0707372016677029,                  0,                  0,                 0,                  0],\n",
       "[                 0,                  0,                  0,                  0, -0.936456687290796,  -0.35078322768962,                 0,                  0],\n",
       "[                 0,                  0,                  0,                  0,   0.35078322768962, -0.936456687290796,                 0,                  0],\n",
       "[                 0,                  0,                  0,                  0,                  0,                  0, 0.877582561890373, -0.479425538604203],\n",
       "[                 0,                  0,                  0,                  0,                  0,                  0, 0.479425538604203,  0.877582561890373]])"
      ]
     },
     "execution_count": 307,
     "metadata": {},
     "output_type": "execute_result"
    }
   ],
   "source": [
    "\n",
    "\n"
   ]
  },
  {
   "cell_type": "code",
   "execution_count": null,
   "id": "2b7ca196",
   "metadata": {},
   "outputs": [],
   "source": []
  }
 ],
 "metadata": {
  "kernelspec": {
   "display_name": "Python 3",
   "language": "python",
   "name": "python3"
  },
  "language_info": {
   "codemirror_mode": {
    "name": "ipython",
    "version": 3
   },
   "file_extension": ".py",
   "mimetype": "text/x-python",
   "name": "python",
   "nbconvert_exporter": "python",
   "pygments_lexer": "ipython3",
   "version": "3.8.3"
  }
 },
 "nbformat": 4,
 "nbformat_minor": 5
}
